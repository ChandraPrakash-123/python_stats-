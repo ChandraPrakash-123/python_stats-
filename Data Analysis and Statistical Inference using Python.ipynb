{
 "cells": [
  {
   "cell_type": "code",
   "execution_count": 1,
   "id": "aac20d86",
   "metadata": {},
   "outputs": [],
   "source": [
    "import numpy as np\n",
    "import pandas as  pd\n",
    "import matplotlib.pyplot as plt\n",
    "from scipy.stats import norm"
   ]
  },
  {
   "cell_type": "code",
   "execution_count": 2,
   "id": "691c4f2e",
   "metadata": {},
   "outputs": [
    {
     "name": "stdout",
     "output_type": "stream",
     "text": [
      "The p-value is 0.10858012302472297 which is greater than the significance level of 0.05\n",
      "Therefore, we fail to reject the null hypothesis and conclude that the average time spent by users is 50 minutes.\n"
     ]
    }
   ],
   "source": [
    "import numpy as np\n",
    "from scipy.stats import t\n",
    "\n",
    "# set the significance level\n",
    "alpha = 0.05\n",
    "\n",
    "# define the sample size, sample mean, population mean, and sample standard deviation\n",
    "n = 25\n",
    "x_bar = 60\n",
    "mu = 50\n",
    "s = 30\n",
    "\n",
    "# calculate the t-statistic\n",
    "t_stat = (x_bar - mu) / (s / np.sqrt(n))\n",
    "\n",
    "# calculate the degrees of freedom\n",
    "df = n - 1\n",
    "\n",
    "# calculate the p-value\n",
    "p_value = 2 * (1 - t.cdf(abs(t_stat), df))\n",
    "\n",
    "# compare the p-value with alpha\n",
    "if p_value < alpha:\n",
    "    print(\"The p-value is\", p_value, \"which is less than the significance level of\", alpha)\n",
    "    print(\"Therefore, we reject the null hypothesis and conclude that the average time spent by users is not 50 minutes.\")\n",
    "else:\n",
    "    print(\"The p-value is\", p_value, \"which is greater than the significance level of\", alpha)\n",
    "    print(\"Therefore, we fail to reject the null hypothesis and conclude that the average time spent by users is 50 minutes.\")\n"
   ]
  },
  {
   "cell_type": "code",
   "execution_count": 3,
   "id": "561d53bf",
   "metadata": {},
   "outputs": [
    {
     "name": "stdout",
     "output_type": "stream",
     "text": [
      "Median height: 164.0\n"
     ]
    }
   ],
   "source": [
    "\n",
    "\n",
    "#  list of heights\n",
    "heights = [168, 170, 169, 160, 162, 164, 162]\n",
    "\n",
    "# create a pandas series from the list of heights\n",
    "heights_series = pd.Series(heights)\n",
    "\n",
    "#the median of the heights\n",
    "median_height = heights_series.median()\n",
    "\n",
    "print(\"Median height:\", median_height)\n"
   ]
  },
  {
   "cell_type": "code",
   "execution_count": 4,
   "id": "23b927e1",
   "metadata": {},
   "outputs": [
    {
     "name": "stdout",
     "output_type": "stream",
     "text": [
      "Mode of the list: 89\n"
     ]
    }
   ],
   "source": [
    "from statistics import mode\n",
    "\n",
    "#list of numbers\n",
    "numbers = [84, 85, 89, 92, 93, 89, 87, 89, 921]\n",
    "\n",
    "# use the mode function from the statistics module to find the mode\n",
    "mode_number = mode(numbers)\n",
    "\n",
    "print(\"Mode of the list:\", mode_number)\n"
   ]
  },
  {
   "cell_type": "code",
   "execution_count": 5,
   "id": "46a7f3de",
   "metadata": {},
   "outputs": [
    {
     "name": "stdout",
     "output_type": "stream",
     "text": [
      " Mean of the obtain marks: 6.6\n"
     ]
    }
   ],
   "source": [
    "# create arrays for the marks and number of students\n",
    "marks = np.array([3, 4, 5, 6, 7, 8, 9, 10])\n",
    "n_students = np.array([1, 2, 2, 4, 5, 3, 2, 1])\n",
    "\n",
    "# calculate the weighted mean using np.average()\n",
    "mark_obtain_mean = np.average(marks, weights=n_students)\n",
    "\n",
    "print(\" Mean of the obtain marks:\",mark_obtain_mean)\n"
   ]
  },
  {
   "cell_type": "code",
   "execution_count": 6,
   "id": "3e4cefb3",
   "metadata": {},
   "outputs": [
    {
     "name": "stdout",
     "output_type": "stream",
     "text": [
      "The probability that the length of time will be between 50 and 70 hours is: 0.4087887802741321\n"
     ]
    }
   ],
   "source": [
    "import scipy.stats as st\n",
    "\n",
    "# define the mean and standard deviation of the distribution\n",
    "mu = 50\n",
    "sigma = 15\n",
    "\n",
    "# calculate the z-scores for the two values of interest\n",
    "z1 = (50 - mu) / sigma\n",
    "z2 = (70 - mu) / sigma\n",
    "\n",
    "# find the probability between the two z-scores using a standard normal distribution table\n",
    "prob = st.norm.cdf(z2) - st.norm.cdf(z1)\n",
    "\n",
    "# print the result\n",
    "print(\"The probability that the length of time will be between 50 and 70 hours is:\", prob)\n"
   ]
  },
  {
   "cell_type": "code",
   "execution_count": 7,
   "id": "c3a7e742",
   "metadata": {},
   "outputs": [
    {
     "name": "stdout",
     "output_type": "stream",
     "text": [
      "The range of the set g is: 13\n"
     ]
    }
   ],
   "source": [
    "g = [10, 23, 12, 21, 14, 17, 16, 11, 15, 19]\n",
    "\n",
    "range_g = max(g) - min(g)\n",
    "\n",
    "print(\"The range of the set g is:\", range_g)\n"
   ]
  },
  {
   "cell_type": "code",
   "execution_count": 8,
   "id": "8f78ed4e",
   "metadata": {},
   "outputs": [
    {
     "name": "stdout",
     "output_type": "stream",
     "text": [
      "The probability that an email detected as spam is actually non-spam is: 0.04807692307692312\n"
     ]
    }
   ],
   "source": [
    "# Assigning given probabilities to variables\n",
    "P_spam = 0.5\n",
    "P_spam_given_detected = 0.99\n",
    "P_nonspam_given_not_detected = 0.95\n",
    "\n",
    "# Using Bayes' theorem to find P_nonspam_given_detected\n",
    "P_detected_given_spam = 1 - P_spam_given_detected\n",
    "P_nonspam = 1 - P_spam\n",
    "P_detected = (P_spam * P_spam_given_detected) + (P_nonspam * (1 - P_nonspam_given_not_detected))\n",
    "P_nonspam_given_detected = (P_nonspam * (1 - P_nonspam_given_not_detected)) / P_detected\n",
    "\n",
    "# result\n",
    "print(\"The probability that an email detected as spam is actually non-spam is:\", P_nonspam_given_detected)\n"
   ]
  },
  {
   "cell_type": "code",
   "execution_count": 9,
   "id": "6f989289",
   "metadata": {},
   "outputs": [
    {
     "name": "stdout",
     "output_type": "stream",
     "text": [
      "The lower quartile is: 11.5\n"
     ]
    }
   ],
   "source": [
    "\n",
    "# Input data\n",
    "returns = [10, 25, 12, 21, 11, 19, 17, 16, 15]\n",
    "\n",
    "# Sort the data in ascending order\n",
    "sorted_returns = np.sort(returns)\n",
    "\n",
    "# Find the median\n",
    "median = np.median(sorted_returns)\n",
    "\n",
    "# Find the lower half of the data set\n",
    "lower_half = sorted_returns[sorted_returns < median]\n",
    "\n",
    "# Find the median of the lower half\n",
    "lower_quartile = np.median(lower_half)\n",
    "\n",
    "# Print the lower quartile\n",
    "print(\"The lower quartile is:\", lower_quartile)\n"
   ]
  },
  {
   "cell_type": "code",
   "execution_count": 10,
   "id": "53de98c7",
   "metadata": {},
   "outputs": [
    {
     "data": {
      "image/png": "[encoded data removed]",
      "text/plain": [
       "<Figure size 640x480 with 1 Axes>"
      ]
     },
     "metadata": {},
     "output_type": "display_data"
    }
   ],
   "source": [
    "\n",
    "# Set the values of n and p\n",
    "n = 25\n",
    "p = 0.3\n",
    "\n",
    "# Create a binomial distribution object using numpy\n",
    "binom_dist = np.random.binomial(n, p, size=1000)\n",
    "\n",
    "# Calculate the variance using numpy's variance function\n",
    "variance = np.var(binom_dist)\n",
    "\n",
    "# Plot a histogram of the distribution\n",
    "plt.hist(binom_dist, bins=range(0, n+1), density=True)\n",
    "\n",
    "# Set the x and y axis labels\n",
    "plt.xlabel('Number of successes')\n",
    "plt.ylabel('Probability')\n",
    "\n",
    "# Add a title to the plot\n",
    "plt.title(f'Binomial Distribution with n={n}, p={p}, Variance={variance:.2f}')\n",
    "\n",
    "# Show the plot\n",
    "plt.show()\n"
   ]
  },
  {
   "cell_type": "code",
   "execution_count": 11,
   "id": "e51f5f60",
   "metadata": {},
   "outputs": [
    {
     "data": {
      "text/html": [
       "<div>\n",
       "<style scoped>\n",
       "    .dataframe tbody tr th:only-of-type {\n",
       "        vertical-align: middle;\n",
       "    }\n",
       "\n",
       "    .dataframe tbody tr th {\n",
       "        vertical-align: top;\n",
       "    }\n",
       "\n",
       "    .dataframe thead th {\n",
       "        text-align: right;\n",
       "    }\n",
       "</style>\n",
       "<table border=\"1\" class=\"dataframe\">\n",
       "  <thead>\n",
       "    <tr style=\"text-align: right;\">\n",
       "      <th></th>\n",
       "      <th>Gender</th>\n",
       "      <th>Carrier</th>\n",
       "      <th>Type</th>\n",
       "      <th>Usage</th>\n",
       "      <th>Signal strength</th>\n",
       "      <th>Value for the Dollar</th>\n",
       "      <th>Customer Service</th>\n",
       "    </tr>\n",
       "  </thead>\n",
       "  <tbody>\n",
       "    <tr>\n",
       "      <th>0</th>\n",
       "      <td>M</td>\n",
       "      <td>AT&amp;T</td>\n",
       "      <td>Smart</td>\n",
       "      <td>High</td>\n",
       "      <td>5</td>\n",
       "      <td>4</td>\n",
       "      <td>4</td>\n",
       "    </tr>\n",
       "    <tr>\n",
       "      <th>1</th>\n",
       "      <td>M</td>\n",
       "      <td>AT&amp;T</td>\n",
       "      <td>Smart</td>\n",
       "      <td>High</td>\n",
       "      <td>5</td>\n",
       "      <td>4</td>\n",
       "      <td>2</td>\n",
       "    </tr>\n",
       "    <tr>\n",
       "      <th>2</th>\n",
       "      <td>M</td>\n",
       "      <td>AT&amp;T</td>\n",
       "      <td>Smart</td>\n",
       "      <td>Average</td>\n",
       "      <td>4</td>\n",
       "      <td>4</td>\n",
       "      <td>4</td>\n",
       "    </tr>\n",
       "    <tr>\n",
       "      <th>3</th>\n",
       "      <td>M</td>\n",
       "      <td>AT&amp;T</td>\n",
       "      <td>Smart</td>\n",
       "      <td>Very high</td>\n",
       "      <td>2</td>\n",
       "      <td>3</td>\n",
       "      <td>3</td>\n",
       "    </tr>\n",
       "    <tr>\n",
       "      <th>4</th>\n",
       "      <td>M</td>\n",
       "      <td>AT&amp;T</td>\n",
       "      <td>Smart</td>\n",
       "      <td>Very high</td>\n",
       "      <td>5</td>\n",
       "      <td>5</td>\n",
       "      <td>2</td>\n",
       "    </tr>\n",
       "  </tbody>\n",
       "</table>\n",
       "</div>"
      ],
      "text/plain": [
       "  Gender Carrier   Type      Usage  Signal strength  Value for the Dollar  \\\n",
       "0      M    AT&T  Smart       High                5                     4   \n",
       "1      M    AT&T  Smart       High                5                     4   \n",
       "2      M    AT&T  Smart    Average                4                     4   \n",
       "3      M    AT&T  Smart  Very high                2                     3   \n",
       "4      M    AT&T  Smart  Very high                5                     5   \n",
       "\n",
       "   Customer Service  \n",
       "0                 4  \n",
       "1                 2  \n",
       "2                 4  \n",
       "3                 3  \n",
       "4                 2  "
      ]
     },
     "execution_count": 11,
     "metadata": {},
     "output_type": "execute_result"
    }
   ],
   "source": [
    "df=pd.read_csv(\"Downloads/Cell Phone Survey.csv\")\n",
    "df.head()"
   ]
  },
  {
   "cell_type": "code",
   "execution_count": 13,
   "id": "e382e5e0",
   "metadata": {},
   "outputs": [
    {
     "data": {
      "text/plain": [
       "Gender                  object\n",
       "Carrier                 object\n",
       "Type                    object\n",
       "Usage                   object\n",
       "Signal strength          int64\n",
       "Value for the Dollar     int64\n",
       "Customer Service         int64\n",
       "dtype: object"
      ]
     },
     "execution_count": 13,
     "metadata": {},
     "output_type": "execute_result"
    }
   ],
   "source": [
    "df.dtypes"
   ]
  },
  {
   "cell_type": "code",
   "execution_count": 33,
   "id": "91d07f5f",
   "metadata": {},
   "outputs": [
    {
     "data": {
      "text/plain": [
       "(52, 7)"
      ]
     },
     "execution_count": 33,
     "metadata": {},
     "output_type": "execute_result"
    }
   ],
   "source": [
    "df.columns\n",
    "df.shape\n"
   ]
  },
  {
   "cell_type": "code",
   "execution_count": 14,
   "id": "7def0332",
   "metadata": {},
   "outputs": [
    {
     "data": {
      "text/plain": [
       "3.3076923076923075"
      ]
     },
     "execution_count": 14,
     "metadata": {},
     "output_type": "execute_result"
    }
   ],
   "source": [
    "#MeanofSignalstrengthcolumn\n",
    "df['Signal strength'].mean()"
   ]
  },
  {
   "cell_type": "code",
   "execution_count": 15,
   "id": "156deccd",
   "metadata": {},
   "outputs": [
    {
     "data": {
      "text/plain": [
       "3.0"
      ]
     },
     "execution_count": 15,
     "metadata": {},
     "output_type": "execute_result"
    }
   ],
   "source": [
    "df['Customer Service'].median()"
   ]
  },
  {
   "cell_type": "code",
   "execution_count": 19,
   "id": "9a47a790",
   "metadata": {},
   "outputs": [
    {
     "data": {
      "text/plain": [
       "0    3\n",
       "Name: Signal strength, dtype: int64"
      ]
     },
     "execution_count": 19,
     "metadata": {},
     "output_type": "execute_result"
    }
   ],
   "source": [
    "df['Signal strength'].mode()"
   ]
  },
  {
   "cell_type": "code",
   "execution_count": 17,
   "id": "86d99849",
   "metadata": {},
   "outputs": [
    {
     "name": "stdout",
     "output_type": "stream",
     "text": [
      "3.3076923076923075\n"
     ]
    }
   ],
   "source": [
    "import statistics\n",
    "x=statistics.mean(df['Signal strength'])\n",
    "print(x)"
   ]
  },
  {
   "cell_type": "code",
   "execution_count": 18,
   "id": "9dd8df7c",
   "metadata": {},
   "outputs": [
    {
     "name": "stdout",
     "output_type": "stream",
     "text": [
      "3.0\n"
     ]
    }
   ],
   "source": [
    "x=statistics.median(df['Customer Service'])\n",
    "print(x)"
   ]
  },
  {
   "cell_type": "code",
   "execution_count": 20,
   "id": "86afd574",
   "metadata": {},
   "outputs": [
    {
     "name": "stdout",
     "output_type": "stream",
     "text": [
      "3\n"
     ]
    }
   ],
   "source": [
    "x=statistics.mode(df['Signal strength'])\n",
    "print(x)"
   ]
  },
  {
   "cell_type": "code",
   "execution_count": 22,
   "id": "5492e21d",
   "metadata": {},
   "outputs": [
    {
     "name": "stdout",
     "output_type": "stream",
     "text": [
      "0.9623375261979595\n"
     ]
    }
   ],
   "source": [
    "x=statistics.stdev(df['Customer Service'])\n",
    "print(x)"
   ]
  },
  {
   "cell_type": "code",
   "execution_count": 23,
   "id": "c4238f88",
   "metadata": {},
   "outputs": [
    {
     "data": {
      "text/plain": [
       "0.9623375261979594"
      ]
     },
     "execution_count": 23,
     "metadata": {},
     "output_type": "execute_result"
    }
   ],
   "source": [
    "df['Customer Service'].std()"
   ]
  },
  {
   "cell_type": "code",
   "execution_count": 24,
   "id": "f10c844f",
   "metadata": {},
   "outputs": [
    {
     "data": {
      "text/plain": [
       "0.9260935143288083"
      ]
     },
     "execution_count": 24,
     "metadata": {},
     "output_type": "execute_result"
    }
   ],
   "source": [
    "df['Customer Service'].var()"
   ]
  },
  {
   "cell_type": "code",
   "execution_count": 26,
   "id": "cc8dec4a",
   "metadata": {},
   "outputs": [
    {
     "name": "stdout",
     "output_type": "stream",
     "text": [
      "0.9260935143288084\n"
     ]
    }
   ],
   "source": [
    "x=statistics.variance(df['Customer Service'])\n",
    "print(x)"
   ]
  },
  {
   "cell_type": "code",
   "execution_count": 27,
   "id": "2ed83e88",
   "metadata": {},
   "outputs": [
    {
     "name": "stdout",
     "output_type": "stream",
     "text": [
      "3.0\n"
     ]
    }
   ],
   "source": [
    "# 25 percentile of value for the doller column\n",
    "per_Value_Dollar=np.percentile(df['Value for the Dollar'],25)\n",
    "print(per_Value_Dollar)"
   ]
  },
  {
   "cell_type": "code",
   "execution_count": 28,
   "id": "1a6f44fc",
   "metadata": {},
   "outputs": [
    {
     "name": "stdout",
     "output_type": "stream",
     "text": [
      "4.0\n"
     ]
    }
   ],
   "source": [
    "## 75 percentile of value for the doller column\n",
    "per_Value_Dollar=np.percentile(df['Value for the Dollar'],75)\n",
    "print(per_Value_Dollar)"
   ]
  },
  {
   "cell_type": "code",
   "execution_count": 29,
   "id": "d7cb4ef1",
   "metadata": {},
   "outputs": [
    {
     "name": "stdout",
     "output_type": "stream",
     "text": [
      "range of the doller column is 4\n"
     ]
    }
   ],
   "source": [
    "range=max(df['Value for the Dollar'])-min(df['Value for the Dollar'])\n",
    "print ( 'range of the doller column is' ,range)"
   ]
  },
  {
   "cell_type": "code",
   "execution_count": 30,
   "id": "ded1f6d1",
   "metadata": {},
   "outputs": [
    {
     "name": "stdout",
     "output_type": "stream",
     "text": [
      "IQR of doller column is 1.0\n"
     ]
    }
   ],
   "source": [
    "#IQR of doller column is difference bitween 25 and 75 percentile of doller column\n",
    "q1=per_Value_Dollar=np.percentile(df['Value for the Dollar'],25)\n",
    "q3=per_Value_Dollar=np.percentile(df['Value for the Dollar'],75)\n",
    "IQR=q3-q1\n",
    "print( 'IQR of doller column is',IQR)"
   ]
  },
  {
   "cell_type": "code",
   "execution_count": null,
   "id": "2c0c1080",
   "metadata": {},
   "outputs": [],
   "source": []
  }
 ],
 "metadata": {
  "kernelspec": {
   "display_name": "Python 3 (ipykernel)",
   "language": "python",
   "name": "python3"
  },
  "language_info": {
   "codemirror_mode": {
    "name": "ipython",
    "version": 3
   },
   "file_extension": ".py",
   "mimetype": "text/x-python",
   "name": "python",
   "nbconvert_exporter": "python",
   "pygments_lexer": "ipython3",
   "version": "3.9.13"
  }
 },
 "nbformat": 4,
 "nbformat_minor": 5
}
